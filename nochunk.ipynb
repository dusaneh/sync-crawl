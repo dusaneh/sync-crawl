{
 "cells": [
  {
   "cell_type": "code",
   "execution_count": null,
   "metadata": {},
   "outputs": [],
   "source": [
    "# to start the playwright session:\n",
    "# \n",
    "# # PC\n",
    "## \"C:\\Program Files\\Google\\Chrome\\Application\\chrome.exe\" --remote-debugging-port=9223 --user-data-dir=\"C:\\my-chrome-profile\"\n",
    "\n",
    "# mac\n",
    "# /Applications/Google\\ Chrome.app/Contents/MacOS/Google\\ Chrome --remote-debugging-port=9223 --user-data-dir=\"~/chrome-debug-profile\"\n",
    "\n",
    "\n",
    "###################################\n",
    "\n",
    "# to start the server which will communicate with the playwright session:\n",
    "## C:/Users/dusan/OneDrive/Desktop/pp/test/crawl/.venv/Scripts/python.exe fastAPIServ.py\n",
    "\n",
    "\n",
    "## git add .\n",
    "## git commit -m \"message\"\n",
    "## git push -u origin main"
   ]
  },
  {
   "cell_type": "code",
   "execution_count": 6,
   "metadata": {},
   "outputs": [],
   "source": [
    "\n",
    "%load_ext autoreload\n",
    "%autoreload 2\n",
    "\n",
    "import helper as hlp\n",
    "import get_2fa as g2\n",
    "\n",
    "import hlogger as hlog\n",
    "import os"
   ]
  },
  {
   "cell_type": "code",
   "execution_count": 4,
   "metadata": {},
   "outputs": [
    {
     "data": {
      "text/plain": [
       "{'status': 'success',\n",
       " 'url_metadata': {'full_url': 'https://www.google.com/search?sca_esv=c7141aea6ab0e785&rlz=1C1RXQR_enUS1113US1113&q=djokovic&tbm=nws&source=lnms&fbs=ABzOT_CWdhQLP1FcmU5B0fn3xuWpmDtIGL1r84kuKz6yAcD_igefx-eKq1gCPHF3zhthFoneNn6lL83lY3KLybUMxCNDhMUtbCQQO9t_eGxoOP_s3rR9imLItfH1uBSfE1eodVtu3j9NNltXXuqTU0fP37mjBusR7Pi0GSAtMbdArRUTLOsC4dN4POVlfGKFb_2PiWfOtFnP-rmmP8j0Odsy8bbuGSebXg&sa=X&ved=2ahUKEwjlnIC8vo2LAxW6EkQIHZ9YM08Q0pQJegQIGRAB&biw=1236&bih=3898&dpr=1',\n",
       "  'scheme': 'https',\n",
       "  'domain': 'www.google.com'},\n",
       " 'dimensions': {'viewport': {'width': 1220, 'height': 1186},\n",
       "  'fullPage': {'width': 1203, 'height': 2370},\n",
       "  'percentageViewable': 100}}"
      ]
     },
     "execution_count": 4,
     "metadata": {},
     "output_type": "execute_result"
    }
   ],
   "source": [
    "import requests\n",
    "import json\n",
    "import math\n",
    "import copy\n",
    "\n",
    "width = 1236\n",
    "suggested_height=969\n",
    "run_rerun_path = 'clients/qb\\\\cust3\\\\0\\\\0\\\\0\\\\0'\n",
    "\n",
    "# scans through the page and extracts metadata\n",
    "metadata_response = requests.get(f\"http://127.0.0.1:8000/extract_metadata?steps={10}&wait_per_step_ms={1000}&overlap_percent=30\",)\n",
    "if metadata_response.status_code != 200:\n",
    "    raise Exception(f\"Failed to fetch metadata. Status code: {metadata_response.status_code}. Message: {metadata_response}\")\n",
    "url_metadata = metadata_response.json()\n",
    "url_metadata\n"
   ]
  },
  {
   "cell_type": "code",
   "execution_count": null,
   "metadata": {},
   "outputs": [
    {
     "data": {
      "text/plain": [
       "(970, 1598.56)"
      ]
     },
     "execution_count": 6,
     "metadata": {},
     "output_type": "execute_result"
    }
   ],
   "source": [
    "suggested_height,tokens = hlp.largest_height_given_width(max_tokens=1600,orig_width=width,suggested_height=suggested_height)\n",
    "\n",
    "suggested_height,tokens"
   ]
  },
  {
   "cell_type": "code",
   "execution_count": 27,
   "metadata": {},
   "outputs": [],
   "source": [
    "#resize_browser_result = hlp.resize_browser_window(width=width, height=suggested_height)"
   ]
  },
  {
   "cell_type": "code",
   "execution_count": 7,
   "metadata": {},
   "outputs": [],
   "source": [
    "import copy\n",
    "new_height = copy.deepcopy(suggested_height)\n",
    "\n",
    "full_height = url_metadata['dimensions']['fullPage']['height']\n",
    "\n",
    "diff = full_height - new_height\n",
    "rounds = 7\n",
    "increment = math.ceil(diff/rounds)\n",
    "\n",
    "\n",
    "fold_tests = []\n",
    "\n",
    "i = 1\n",
    "while i <= rounds:\n",
    "    resize_browser_result = hlp.resize_browser_window(width=width, height=new_height)\n",
    "    fold_tests.append({'width':width,'height':new_height,'id':i})\n",
    "\n",
    "    screenshot_response = requests.get(\n",
    "        f\"http://127.0.0.1:8000/screenshot\",\n",
    "        params={\"output_path\": run_rerun_path+\"/fold_tests\", \"overlap_percentage\": 0,\"max_chunks\": 1, \n",
    "                    \"action_id\": None,\n",
    "                    \"candidate_id\": None,\n",
    "                    \"single_chunk_override_id\":i\n",
    "                }\n",
    "    )\n",
    "    new_height = new_height + increment\n",
    "    i += 1\n",
    "resize_browser_result = hlp.resize_browser_window(width=width, height=suggested_height)"
   ]
  },
  {
   "cell_type": "code",
   "execution_count": 11,
   "metadata": {},
   "outputs": [
    {
     "name": "stdout",
     "output_type": "stream",
     "text": [
      "1 : width: {'height': 969, 'width': 1236}\n",
      "2 : width: {'height': 1065, 'width': 1125}\n",
      "3 : width: {'height': 1153, 'width': 1039}\n",
      "4 : width: {'height': 1235, 'width': 971}\n",
      "5 : width: {'height': 1312, 'width': 914}\n",
      "6 : width: {'height': 1384, 'width': 866}\n",
      "7 : width: {'height': 1453, 'width': 825}\n"
     ]
    }
   ],
   "source": [
    "fold_test_paths = []\n",
    "#chunk_file_list =  hlp.get_files_with_extension(run_rerun_path+\"/chunks\", \".png\")\n",
    "for c in fold_tests:\n",
    "    tmp_resize_screenshot_result = hlp.resize_and_crop(\n",
    "        input_path=f'{run_rerun_path}/fold_tests/{f'chunk_{c['id']}.png'}',\n",
    "        output_path=f'{run_rerun_path}/fold_tests/resized_{f'chunk_{c['id']}.png'}',\n",
    "    )\n",
    "    c['path'] = run_rerun_path+f\"/fold_tests/resized_chunk_{c['id']}.png\"\n",
    "    c['file_name'] = f\"resized_chunk_{c['id']}.png\"\n",
    "    fold_test_paths.append(c['path'])\n",
    "    tmp_resize_screenshot_result['id'] = c['id']\n",
    "    c['new_dimensions'] = {'height':tmp_resize_screenshot_result['new_height'],'width':tmp_resize_screenshot_result['new_width']}\n",
    "    print(c['id'],\":\",'width:',c['new_dimensions'])\n"
   ]
  },
  {
   "cell_type": "code",
   "execution_count": 12,
   "metadata": {},
   "outputs": [
    {
     "data": {
      "text/plain": [
       "[{'width': 1236,\n",
       "  'height': 969,\n",
       "  'id': 1,\n",
       "  'path': 'clients/qb\\\\cust3\\\\0\\\\0\\\\0\\\\0/fold_tests/resized_chunk_1.png',\n",
       "  'file_name': 'resized_chunk_1.png',\n",
       "  'new_dimensions': {'height': 969, 'width': 1236}},\n",
       " {'width': 1236,\n",
       "  'height': 1170,\n",
       "  'id': 2,\n",
       "  'path': 'clients/qb\\\\cust3\\\\0\\\\0\\\\0\\\\0/fold_tests/resized_chunk_2.png',\n",
       "  'file_name': 'resized_chunk_2.png',\n",
       "  'new_dimensions': {'height': 1065, 'width': 1125}},\n",
       " {'width': 1236,\n",
       "  'height': 1371,\n",
       "  'id': 3,\n",
       "  'path': 'clients/qb\\\\cust3\\\\0\\\\0\\\\0\\\\0/fold_tests/resized_chunk_3.png',\n",
       "  'file_name': 'resized_chunk_3.png',\n",
       "  'new_dimensions': {'height': 1153, 'width': 1039}},\n",
       " {'width': 1236,\n",
       "  'height': 1572,\n",
       "  'id': 4,\n",
       "  'path': 'clients/qb\\\\cust3\\\\0\\\\0\\\\0\\\\0/fold_tests/resized_chunk_4.png',\n",
       "  'file_name': 'resized_chunk_4.png',\n",
       "  'new_dimensions': {'height': 1235, 'width': 971}},\n",
       " {'width': 1236,\n",
       "  'height': 1773,\n",
       "  'id': 5,\n",
       "  'path': 'clients/qb\\\\cust3\\\\0\\\\0\\\\0\\\\0/fold_tests/resized_chunk_5.png',\n",
       "  'file_name': 'resized_chunk_5.png',\n",
       "  'new_dimensions': {'height': 1312, 'width': 914}},\n",
       " {'width': 1236,\n",
       "  'height': 1974,\n",
       "  'id': 6,\n",
       "  'path': 'clients/qb\\\\cust3\\\\0\\\\0\\\\0\\\\0/fold_tests/resized_chunk_6.png',\n",
       "  'file_name': 'resized_chunk_6.png',\n",
       "  'new_dimensions': {'height': 1384, 'width': 866}},\n",
       " {'width': 1236,\n",
       "  'height': 2175,\n",
       "  'id': 7,\n",
       "  'path': 'clients/qb\\\\cust3\\\\0\\\\0\\\\0\\\\0/fold_tests/resized_chunk_7.png',\n",
       "  'file_name': 'resized_chunk_7.png',\n",
       "  'new_dimensions': {'height': 1453, 'width': 825}}]"
      ]
     },
     "execution_count": 12,
     "metadata": {},
     "output_type": "execute_result"
    }
   ],
   "source": [
    "fold_tests"
   ]
  },
  {
   "cell_type": "code",
   "execution_count": 13,
   "metadata": {},
   "outputs": [],
   "source": [
    "workflow_instructions = \"\"\"Related searches\"\"\"\n",
    "site_wide_instructions = \"Google\"\n",
    "page_action_json_ranked_fold_test,action_prompt,raw = hlp.perform_llm_fold_test(fold_tests,fold_test_paths,workflow_instructions,site_wide_instructions)"
   ]
  },
  {
   "cell_type": "code",
   "execution_count": 17,
   "metadata": {},
   "outputs": [
    {
     "name": "stdout",
     "output_type": "stream",
     "text": [
      "[{'id': 1, 'relevant_elements': 0, 'sufficient_elements': False, 'clarity': 4}, {'id': 2, 'relevant_elements': 0, 'sufficient_elements': False, 'clarity': 4}, {'id': 3, 'relevant_elements': 0, 'sufficient_elements': False, 'clarity': 4}, {'id': 4, 'relevant_elements': 0, 'sufficient_elements': False, 'clarity': 4}, {'id': 5, 'relevant_elements': 0, 'sufficient_elements': False, 'clarity': 4}, {'id': 6, 'relevant_elements': 0, 'sufficient_elements': False, 'clarity': 4}, {'id': 7, 'relevant_elements': 0, 'sufficient_elements': False, 'clarity': 4}]\n"
     ]
    }
   ],
   "source": [
    "print(page_action_json_ranked['results'])\n",
    "page_action_json_ranked_fold_test = page_action_json_ranked"
   ]
  },
  {
   "cell_type": "code",
   "execution_count": 19,
   "metadata": {},
   "outputs": [
    {
     "name": "stdout",
     "output_type": "stream",
     "text": [
      "Best Image: {'id': 1, 'relevant_elements': 0, 'sufficient_elements': False, 'clarity': 4}\n"
     ]
    },
    {
     "data": {
      "text/plain": [
       "{'id': 1, 'relevant_elements': 0, 'sufficient_elements': False, 'clarity': 4}"
      ]
     },
     "execution_count": 19,
     "metadata": {},
     "output_type": "execute_result"
    }
   ],
   "source": [
    "best_image={}\n",
    "best_image = max(\n",
    "    page_action_json_ranked_fold_test['results'],\n",
    "    key=lambda x: (x['relevant_elements'], x['clarity']),\n",
    ")\n",
    "\n",
    "print(f\"Best Image: {best_image}\")\n",
    "\n",
    "\n"
   ]
  },
  {
   "cell_type": "code",
   "execution_count": 20,
   "metadata": {},
   "outputs": [
    {
     "data": {
      "text/plain": [
       "{'id': 1,\n",
       " 'relevant_elements': 0,\n",
       " 'sufficient_elements': False,\n",
       " 'clarity': 4,\n",
       " 'path': 'clients/qb\\\\cust3\\\\0\\\\0\\\\0\\\\0/fold_tests/resized_chunk_1.png',\n",
       " 'file_name': 'resized_chunk_1.png',\n",
       " 'resized_dimensions': {'height': 969, 'width': 1236},\n",
       " 'original_dimensions': {'height': 969, 'width': 1236}}"
      ]
     },
     "execution_count": 20,
     "metadata": {},
     "output_type": "execute_result"
    }
   ],
   "source": [
    "for f in fold_tests:\n",
    "    if f['id'] == best_image['id']:\n",
    "        best_image['path'] = f['path']\n",
    "        best_image['file_name'] = f['file_name']\n",
    "        best_image['resized_dimensions'] = f['new_dimensions']\n",
    "        best_image['original_dimensions'] = {'height':f['height'],'width':f['width']}\n",
    "best_image"
   ]
  },
  {
   "cell_type": "code",
   "execution_count": 21,
   "metadata": {},
   "outputs": [],
   "source": [
    "resize_browser_result = hlp.resize_browser_window(width=best_image['original_dimensions']['width'], height=best_image['original_dimensions']['height'])"
   ]
  }
 ],
 "metadata": {
  "kernelspec": {
   "display_name": ".venv",
   "language": "python",
   "name": "python3"
  },
  "language_info": {
   "codemirror_mode": {
    "name": "ipython",
    "version": 3
   },
   "file_extension": ".py",
   "mimetype": "text/x-python",
   "name": "python",
   "nbconvert_exporter": "python",
   "pygments_lexer": "ipython3",
   "version": "3.12.4"
  }
 },
 "nbformat": 4,
 "nbformat_minor": 2
}
